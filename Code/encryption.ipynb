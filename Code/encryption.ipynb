{
 "cells": [
  {
   "cell_type": "code",
   "execution_count": 7,
   "metadata": {},
   "outputs": [
    {
     "name": "stdout",
     "output_type": "stream",
     "text": [
      "The size of input file is 125254008 bytes.\n"
     ]
    }
   ],
   "source": [
    "import os\n",
    "file_size = os.path.getsize('test.zip')\n",
    "print(f\"The size of input file is {file_size} bytes.\")"
   ]
  },
  {
   "cell_type": "code",
   "execution_count": 8,
   "metadata": {},
   "outputs": [
    {
     "name": "stdout",
     "output_type": "stream",
     "text": [
      "01010000010010110000001100000100000010100000000000000000000000000000000000000000\n",
      "10001000011010011000111001010110000000000000000000000000000000000000000000000000\n",
      "00000000000000000000000000000000000000000000000000001010000000000000000000000000\n",
      "01001111011011100101011001010101010001010010111001100001011100000111000000101111\n",
      "01010000010010110000001100000100000010100000000000000000000000000000000000000000\n",
      "00000111011010101000111001010110000000000000000000000000000000000000000000000000\n",
      "00000000000000000000000000000000000000000000000000010011000000000000000000000000\n",
      "01001111011011100101011001010101010001010010111001100001011100000111000000101111\n",
      "01000011011011110110111001110100011001010110111001110100011100110010111101010000\n",
      "01001011000000110000010000010100000000000000000000000000000010000000000000000111\n",
      "01101010100011100101011010101101100000110110000101111100101000100000010100000000\n",
      "00000000100110110000011100000000000000000010000000000000000000000000000001001111\n",
      "01101110010101100101010101000101001011100110000101110000011100000010111101000011\n",
      "01101111011011100111010001100101011011100111010001110011001011110100001101101111\n",
      "01100100011001010101001001100101011100110110111101110101011100100110001101100101\n",
      "01110011110001010101010001101001010100000101001101010111000101000111111011101111\n",
      "00100110011110010110000101010011011101101010110001010010111000010101010100010001\n",
      "01001010110000000111000010010011100001111000000010110100110110100101001000110110\n",
      "01000001001011000110000011000000001001010111010111000000111101000010010100100100\n",
      "00100001100100000110000000010010010000001001011000111010000001000000010100000001\n"
     ]
    }
   ],
   "source": [
    "# Open the input file in binary mode\n",
    "with open('test.zip', 'rb') as f_in:\n",
    "    # Read the binary data from the input file\n",
    "    binary_data = f_in.read()\n",
    "\n",
    "# Convert the binary data into a string of zeros and ones\n",
    "binary_string = ''.join(format(byte, '08b') for byte in binary_data)\n",
    "\n",
    "# Print the first 20 lines of the binary data\n",
    "for i in range(20):\n",
    "    print(binary_string[i*80:(i+1)*80])\n"
   ]
  },
  {
   "cell_type": "code",
   "execution_count": 9,
   "metadata": {},
   "outputs": [
    {
     "name": "stdout",
     "output_type": "stream",
     "text": [
      "Folder deleted successfully\n",
      "Folder created successfully.\n"
     ]
    }
   ],
   "source": [
    "import shutil\n",
    "import os\n",
    "\n",
    "folder_name = 'binary_images'\n",
    "\n",
    "if os.path.exists(folder_name):\n",
    "    try:\n",
    "        shutil.rmtree(folder_name)\n",
    "        print(\"Folder deleted successfully\")\n",
    "    except OSError as e:\n",
    "        print(f\"Error deleting folder: {e}\")\n",
    "\n",
    "try:\n",
    "    os.makedirs(folder_name)\n",
    "    print(\"Folder created successfully.\")\n",
    "except OSError as e:\n",
    "    print(f\"Error creating folder: {e}\")\n"
   ]
  },
  {
   "cell_type": "code",
   "execution_count": 10,
   "metadata": {},
   "outputs": [],
   "source": [
    "from PIL import Image\n",
    "\n",
    "# Define the image resolution and size\n",
    "resolution = (3840, 2160)\n",
    "size = resolution[0] * resolution[1]\n",
    "\n",
    "# Create the binary image files\n",
    "for i in range(1, (len(binary_string) // size) + 1):\n",
    "    # Extract the binary data for the current image\n",
    "    binary_data = binary_string[(i-1)*size:i*size]\n",
    "\n",
    "    # Convert the binary data to a list of integers\n",
    "    pixels = [int(x) * 255 for x in binary_data]\n",
    "\n",
    "    # Create the image object and save it to a file\n",
    "    img = Image.new('L', resolution)\n",
    "    img.putdata(pixels)\n",
    "    img.save(f\"binary_images/{i}.png\")\n"
   ]
  },
  {
   "cell_type": "code",
   "execution_count": 11,
   "metadata": {},
   "outputs": [],
   "source": [
    "import cv2\n",
    "import os\n",
    "\n",
    "# Directory containing the images\n",
    "img_folder = \"./binary_images\"\n",
    "\n",
    "# Get all image filenames in the folder\n",
    "img_filenames = sorted([os.path.join(img_folder, f) for f in os.listdir(img_folder) if f.endswith(\".png\")])\n",
    "\n",
    "# Set video resolution to 4K\n",
    "video_width = 3840\n",
    "video_height = 2160\n",
    "\n",
    "# Set video frame rate \n",
    "fps = 60\n",
    "\n",
    "# Initialize video writer\n",
    "fourcc = cv2.VideoWriter_fourcc(*'mp4v')\n",
    "video_writer = cv2.VideoWriter(\"binary_video.mp4\", fourcc, fps, (video_width, video_height))\n",
    "\n",
    "# Loop through the images and add them to the video\n",
    "for img_filename in img_filenames:\n",
    "    img = cv2.imread(img_filename)\n",
    "    img = cv2.resize(img, (video_width, video_height))\n",
    "    video_writer.write(img)\n",
    "\n",
    "# Release video writer\n",
    "video_writer.release()\n"
   ]
  }
 ],
 "metadata": {
  "kernelspec": {
   "display_name": "Python 3.9.6 64-bit",
   "language": "python",
   "name": "python3"
  },
  "language_info": {
   "codemirror_mode": {
    "name": "ipython",
    "version": 3
   },
   "file_extension": ".py",
   "mimetype": "text/x-python",
   "name": "python",
   "nbconvert_exporter": "python",
   "pygments_lexer": "ipython3",
   "version": "3.9.6"
  },
  "orig_nbformat": 4,
  "vscode": {
   "interpreter": {
    "hash": "31f2aee4e71d21fbe5cf8b01ff0e069b9275f58929596ceb00d14d90e3e16cd6"
   }
  }
 },
 "nbformat": 4,
 "nbformat_minor": 2
}
