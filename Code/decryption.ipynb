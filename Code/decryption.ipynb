{
 "cells": [
  {
   "cell_type": "code",
   "execution_count": 1,
   "metadata": {},
   "outputs": [
    {
     "name": "stderr",
     "output_type": "stream",
     "text": [
      "OpenCV: Couldn't read video stream from file \"binary_video.mp4\"\n"
     ]
    }
   ],
   "source": [
    "#rev\n",
    "\n",
    "import cv2\n",
    "import os\n",
    "\n",
    "# Open the video file\n",
    "video_filename = \"binary_video.mp4\"\n",
    "cap = cv2.VideoCapture(video_filename)\n",
    "\n",
    "# Create directory to save extracted frames\n",
    "output_folder = \"./extracted_frames\"\n",
    "if not os.path.exists(output_folder):\n",
    "    os.makedirs(output_folder)\n",
    "\n",
    "# Loop through the frames in the video\n",
    "frame_count = 0\n",
    "while(cap.isOpened()):\n",
    "    # Read a frame from the video\n",
    "    ret, frame = cap.read()\n",
    "    \n",
    "    # If there are no more frames to read, break out of the loop\n",
    "    if not ret:\n",
    "        break\n",
    "    \n",
    "    # Save the frame as an image\n",
    "    output_filename = os.path.join(output_folder, f\"frame_{frame_count:04d}.png\")\n",
    "    cv2.imwrite(output_filename, frame)\n",
    "    \n",
    "    # Increment the frame count\n",
    "    frame_count += 1\n",
    "\n",
    "# Release the video capture object\n",
    "cap.release()\n"
   ]
  },
  {
   "cell_type": "code",
   "execution_count": null,
   "metadata": {},
   "outputs": [],
   "source": [
    "#reverse --> images to binary string\n",
    "\n",
    "from PIL import Image\n",
    "import os\n",
    "\n",
    "# Define the image resolution and size\n",
    "resolution = (3840, 2160)\n",
    "size = resolution[0] * resolution[1]\n",
    "\n",
    "# Initialize an empty string to store the binary data\n",
    "binary_string_rev = ''\n",
    "\n",
    "# Iterate over each grayscale image in the \"binary_images\" folder\n",
    "for i in range(1, len(os.listdir('binary_images'))+1):\n",
    "    # Load the grayscale image and convert it to a list of pixel values\n",
    "    img = Image.open(f\"binary_images/{i}.png\").convert('L')\n",
    "    pixels = list(img.getdata())\n",
    "\n",
    "    # Convert the pixel values to a binary string of 0's and 1's\n",
    "    binary_data = ''.join('1' if x >= 128 else '0' for x in pixels)\n",
    "\n",
    "    # Append the binary data to the final binary string\n",
    "    binary_string_rev += binary_data\n",
    "\n",
    "# Print the first 20 lines of the binary data\n",
    "for i in range(20):\n",
    "    print(binary_string_rev[i*80:(i+1)*80])\n",
    "\n"
   ]
  },
  {
   "cell_type": "code",
   "execution_count": null,
   "metadata": {},
   "outputs": [],
   "source": [
    "#Converting binary to file (Reverse)\n",
    "\n",
    "# Read the binary string from a file or some other source\n",
    "\n",
    "# Split the binary string into 8-bit chunks to obtain the binary data\n",
    "binary_data = bytes(int(binary_string_rev[i:i+8], 2) for i in range(0, len(binary_string_rev), 8))\n",
    "\n",
    "# Write the binary data to a new binary file\n",
    "with open('test_new.zip', 'wb') as f_out:\n",
    "    f_out.write(binary_data)\n"
   ]
  }
 ],
 "metadata": {
  "kernelspec": {
   "display_name": "Python 3.9.6 64-bit",
   "language": "python",
   "name": "python3"
  },
  "language_info": {
   "codemirror_mode": {
    "name": "ipython",
    "version": 3
   },
   "file_extension": ".py",
   "mimetype": "text/x-python",
   "name": "python",
   "nbconvert_exporter": "python",
   "pygments_lexer": "ipython3",
   "version": "3.9.6"
  },
  "orig_nbformat": 4,
  "vscode": {
   "interpreter": {
    "hash": "31f2aee4e71d21fbe5cf8b01ff0e069b9275f58929596ceb00d14d90e3e16cd6"
   }
  }
 },
 "nbformat": 4,
 "nbformat_minor": 2
}
